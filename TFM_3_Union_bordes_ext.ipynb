{
 "cells": [
  {
   "cell_type": "markdown",
   "id": "adaeb912",
   "metadata": {},
   "source": [
    "IMPORTS"
   ]
  },
  {
   "cell_type": "code",
   "execution_count": 1,
   "id": "60ae13fd",
   "metadata": {},
   "outputs": [],
   "source": [
    "import numpy as np\n",
    "import pandas as pd\n",
    "import matplotlib.pyplot as plt\n",
    "import cv2\n",
    "import os\n",
    "from skimage import io\n",
    "from scipy.cluster.hierarchy import linkage, fcluster\n",
    "\n",
    "#Imports gestion de bordes\n",
    "\n",
    "from ipynb.fs.full.bordes import genera_bordes\n",
    "from ipynb.fs.full.bordes import genera_bordes2\n",
    "\n",
    "\n",
    "#imports extraccion caracteristicas\n",
    "\n",
    "from ipynb.fs.full.caracteristicas import caractRGB\n",
    "from ipynb.fs.full.caracteristicas import caractRGB2\n",
    "from ipynb.fs.full.caracteristicas import caractHSV\n",
    "from ipynb.fs.full.caracteristicas import caractHSV2\n",
    "from ipynb.fs.full.caracteristicas import caractHSV3\n",
    "from ipynb.fs.full.caracteristicas import caractXYZ\n",
    "from ipynb.fs.full.caracteristicas import caractXYZ2\n",
    "\n",
    "\n",
    "\n",
    "#Imports conbinación segmentaciones\n",
    "\n",
    "from ipynb.fs.full.Megapixels import mas_superpixeles\n",
    "from ipynb.fs.full.Megapixels import une_segments\n",
    "from ipynb.fs.full.Megapixels import quita_pequenos\n",
    "from ipynb.fs.full.Megapixels import reordenar\n",
    "\n",
    "\n",
    "\n",
    "from ipynb.fs.full.Tests import test_BR\n",
    "from ipynb.fs.full.Tests import ASA\n",
    "\n",
    "\n"
   ]
  },
  {
   "cell_type": "markdown",
   "id": "e2ada4ee",
   "metadata": {},
   "source": [
    "Cargamos todas las imagenes de intercambio para poder usarlas\n"
   ]
  },
  {
   "cell_type": "code",
   "execution_count": 2,
   "id": "3d9cd452",
   "metadata": {
    "scrolled": true
   },
   "outputs": [
    {
     "name": "stdout",
     "output_type": "stream",
     "text": [
      "IMAGENES:\n",
      "image\n",
      "imagen_org\n",
      "int_bordes_mod\n",
      "prueba\n",
      "segmentation_FH\n",
      "segmentation_QS\n",
      "segmentation_SEEDS\n",
      "segmentation_SLIC\n",
      "SEGMENTACIONES:\n",
      "bordes_FH\n",
      "bordes_FH2\n",
      "bordes_FQ_bordes2\n",
      "bordes_FSE_bordes2\n",
      "bordes_FSL_bordes2\n",
      "bordes_image_G_S\n",
      "bordes_limpios\n",
      "bordes_mejorados\n",
      "bordes_QS\n",
      "bordes_QS2\n",
      "bordes_SEEDS\n",
      "bordes_SEEDS2\n",
      "bordes_segmentacion_mejorada\n",
      "bordes_segmentacion_mejoradav2\n",
      "bordes_separados\n",
      "bordes_SLIC\n",
      "bordes_SLIC2\n",
      "bordes_union_bordes2\n",
      "canny\n",
      "foto\n",
      "image_G_S\n",
      "int_bordes\n",
      "int_bordes1\n",
      "int_bordes_mod\n",
      "n_bordes\n",
      "n_bordes_FQ\n",
      "n_bordes_FSE\n",
      "n_bordes_FSL\n",
      "n_bordes_QSE\n",
      "n_bordes_QSL\n",
      "n_segmentation\n",
      "n_segments\n",
      "n_segments_bordes2\n",
      "n_segments_FQ\n",
      "n_segments_FSE\n",
      "n_segments_FSL\n",
      "n_segments_QSE\n",
      "n_segments_QSL\n",
      "segmentacion_mejorada\n",
      "segmentacion_mejoradav2\n",
      "segments_FH\n",
      "segments_FQ_bordes2\n",
      "segments_FSE_bordes2\n",
      "segments_FSL_bordes2\n",
      "segments_QS\n",
      "segments_SEEDS\n",
      "segments_SLIC\n",
      "sum_bordes\n"
     ]
    }
   ],
   "source": [
    "# Ruta de la carpeta de intercambio\n",
    "ruta = 'compartir'\n",
    "\n",
    "# Obtener la lista de archivos en la carpeta\n",
    "archivos = os.listdir(ruta)\n",
    "\n",
    "# Filtrar los archivos con extensiones .jpg y .npy\n",
    "archivos_jpg = [archivo for archivo in archivos if archivo.endswith('.jpg')]\n",
    "archivos_npy = [archivo for archivo in archivos if archivo.endswith('.npy')]\n",
    "# Cargar imágenes .jpg\n",
    "\n",
    "print(\"IMAGENES:\")\n",
    "for archivo_jpg in archivos_jpg:\n",
    "    ruta_jpg = os.path.join(ruta, archivo_jpg)\n",
    "    nombre=archivo_jpg[:-4]\n",
    "    imagen = cv2.imread(ruta_jpg)\n",
    "    #imagen=cv2.cvtColor(imagen, cv2.COLOR_BGR2RGB)\n",
    "    # Crear una cadena de texto que representa la asignación\n",
    "    codigo_asignacion = f\"{nombre} = imagen\"\n",
    "    # Ejecutar la cadena de texto usando exec()\n",
    "    exec(codigo_asignacion)\n",
    "#     print(nombre)\n",
    "\n",
    "print(\"SEGMENTACIONES:\")\n",
    "# Cargar archivos Numpy .npy\n",
    "for archivo_npy in archivos_npy:\n",
    "    ruta_npy = os.path.join(ruta, archivo_npy)\n",
    "    nombre=archivo_npy[:-4]\n",
    "    archivo = np.load(ruta_npy)\n",
    "    # Crear una cadena de texto que representa la asignación\n",
    "    codigo_asignacion = f\"{nombre} = archivo\"\n",
    "\n",
    "    # Ejecutar la cadena de texto usando exec()\n",
    "    exec(codigo_asignacion)\n",
    "#     print(nombre)\n"
   ]
  },
  {
   "cell_type": "code",
   "execution_count": 3,
   "id": "1e8211bf",
   "metadata": {},
   "outputs": [],
   "source": [
    "imagen_org=cv2.cvtColor(imagen_org, cv2.COLOR_BGR2RGB)"
   ]
  },
  {
   "cell_type": "code",
   "execution_count": 4,
   "id": "fa6a8605",
   "metadata": {},
   "outputs": [
    {
     "data": {
      "text/plain": [
       "array([   1,    2,    3, ..., 4905, 4906, 4907])"
      ]
     },
     "execution_count": 4,
     "metadata": {},
     "output_type": "execute_result"
    }
   ],
   "source": [
    "np.unique(n_segments)\n"
   ]
  },
  {
   "cell_type": "code",
   "execution_count": 5,
   "id": "b3a62768",
   "metadata": {},
   "outputs": [
    {
     "data": {
      "text/plain": [
       "array([0, 1], dtype=uint8)"
      ]
     },
     "execution_count": 5,
     "metadata": {},
     "output_type": "execute_result"
    }
   ],
   "source": [
    "np.unique(bordes_mejorados)"
   ]
  },
  {
   "cell_type": "code",
   "execution_count": 6,
   "id": "5c858abf",
   "metadata": {
    "scrolled": false
   },
   "outputs": [],
   "source": [
    "#mostramos el borde mejorado\n",
    "\n",
    "\n",
    "\n",
    "\n",
    "\n",
    "# plt.figure(figsize=(20, 20))\n",
    "# plt.subplot(1,2, 1)\n",
    "# plt.title('Suma bordes')\n",
    "# plt.imshow(sum_bordes, cmap=\"grey\")\n",
    "# plt.axis('off')\n",
    "\n",
    "# plt.subplot(1,2, 2)\n",
    "# plt.title('Bordes mejorados')\n",
    "# plt.imshow(bordes_mejorados, cmap=\"grey\")\n",
    "# plt.axis('off')\n"
   ]
  },
  {
   "cell_type": "code",
   "execution_count": null,
   "id": "c29a2dfd",
   "metadata": {},
   "outputs": [],
   "source": []
  },
  {
   "cell_type": "code",
   "execution_count": 7,
   "id": "c01f6687",
   "metadata": {},
   "outputs": [
    {
     "name": "stdout",
     "output_type": "stream",
     "text": [
      "Segmentos SLIC antes:  [  1   2   3   4   5   6   7   8   9  10  11  12  13  14  15  16  17  18\n",
      "  19  20  21  22  23  24  25  26  27  28  29  30  31  32  33  34  35  36\n",
      "  37  38  39  40  41  42  43  44  45  46  47  48  49  50  51  52  53  54\n",
      "  55  56  57  58  59  60  61  62  63  64  65  66  67  68  69  70  71  72\n",
      "  73  74  75  76  77  78  79  80  81  82  83  84  85  86  87  88  89  90\n",
      "  91  92  93  94  95  96  97  98  99 100 101 102 103 104 105 106 107 108\n",
      " 109 110 111 112 113 114 115 116 117 118 119 120 121 122 123 124 125 126\n",
      " 127 128 129]\n",
      "Segmentos SLIC despues:  [  1   2   3   4   5   6   7   8   9  10  11  12  13  14  15  16  17  18\n",
      "  19  20  21  22  23  24  25  26  27  28  29  30  31  32  33  34  35  36\n",
      "  37  38  39  40  41  42  43  44  45  46  47  48  49  50  51  52  53  54\n",
      "  55  56  57  58  59  60  61  62  63  64  65  66  67  68  69  70  71  72\n",
      "  73  74  75  76  77  78  79  80  81  82  83  84  85  86  87  88  89  90\n",
      "  91  92  93  94  95  96  97  98  99 100 101 102 103 104 105 106 107 108\n",
      " 109 110 111 112 113 114 115 116 117 118 119 120 121 122 123 124 125 126\n",
      " 127 128 129]\n"
     ]
    }
   ],
   "source": [
    "# print(\"Segmentos SLIC antes: \",np.unique(segments_SLIC))\n",
    "segments_SLIC=reordenar(segments_SLIC)\n",
    "# print(\"Segmentos SLIC despues: \",np.unique(segments_SLIC))\n"
   ]
  },
  {
   "cell_type": "code",
   "execution_count": 8,
   "id": "0e019cba",
   "metadata": {
    "scrolled": true
   },
   "outputs": [
    {
     "data": {
      "text/plain": [
       "array([  1,   2,   3,   4,   5,   6,   7,   8,   9,  10,  11,  12,  13,\n",
       "        14,  15,  16,  17,  18,  19,  20,  21,  22,  23,  24,  25,  26,\n",
       "        27,  28,  29,  30,  31,  32,  33,  34,  35,  36,  37,  38,  39,\n",
       "        40,  41,  42,  43,  44,  45,  46,  47,  48,  49,  50,  51,  52,\n",
       "        53,  54,  55,  56,  57,  58,  59,  60,  61,  62,  63,  64,  65,\n",
       "        66,  67,  68,  69,  70,  71,  72,  73,  74,  75,  76,  77,  78,\n",
       "        79,  80,  81,  82,  83,  84,  85,  86,  87,  88,  89,  90,  91,\n",
       "        92,  93,  94,  95,  96,  97,  98,  99, 100, 101, 102, 103, 104,\n",
       "       105, 106, 107, 108, 109, 110, 111, 112, 113, 114, 115, 116, 117,\n",
       "       118, 119, 120, 121, 122, 123, 124, 125, 126, 127, 128, 129, 130,\n",
       "       131, 132, 133, 134, 135, 136, 137, 138, 139, 140, 141, 142, 143,\n",
       "       144, 145, 146, 147, 148, 149, 150, 151, 152, 153, 154, 155, 156,\n",
       "       157, 158, 159, 160, 161, 162, 163, 164, 165, 166, 167, 168, 169,\n",
       "       170, 171, 172, 173, 174, 175, 176, 177, 178, 179, 180, 181, 182,\n",
       "       183, 184, 185, 186, 187, 188, 189, 190, 191, 192, 193, 194, 195,\n",
       "       196, 197, 198, 199, 200, 201, 202, 203, 204, 205, 206, 207, 208,\n",
       "       209], dtype=uint32)"
      ]
     },
     "execution_count": 8,
     "metadata": {},
     "output_type": "execute_result"
    }
   ],
   "source": [
    "segmentacion_mejorada=segmentacion_mejorada.astype(np.uint32)\n",
    "segmentacion_mejorada=reordenar(segmentacion_mejorada)\n",
    "# np.unique(segmentacion_mejorada)"
   ]
  },
  {
   "cell_type": "code",
   "execution_count": 9,
   "id": "99797bac",
   "metadata": {},
   "outputs": [
    {
     "data": {
      "text/plain": [
       "array([   0,    1,    2, ..., 1528, 1529, 1530])"
      ]
     },
     "execution_count": 9,
     "metadata": {},
     "output_type": "execute_result"
    }
   ],
   "source": [
    "np.unique(n_segments_FSL)"
   ]
  },
  {
   "cell_type": "markdown",
   "id": "55669174",
   "metadata": {},
   "source": [
    "## Cararacterizacion inicial"
   ]
  },
  {
   "cell_type": "code",
   "execution_count": 10,
   "id": "a55dcdb9",
   "metadata": {
    "scrolled": true
   },
   "outputs": [
    {
     "name": "stderr",
     "output_type": "stream",
     "text": [
      "D:\\Users\\Roberto\\Anaconda\\Lib\\site-packages\\numpy\\core\\fromnumeric.py:3464: RuntimeWarning: Mean of empty slice.\n",
      "  return _methods._mean(a, axis=axis, dtype=dtype,\n",
      "D:\\Users\\Roberto\\Anaconda\\Lib\\site-packages\\numpy\\core\\_methods.py:192: RuntimeWarning: invalid value encountered in scalar divide\n",
      "  ret = ret.dtype.type(ret / rcount)\n",
      "D:\\Users\\Roberto\\Anaconda\\Lib\\site-packages\\numpy\\core\\_methods.py:269: RuntimeWarning: Degrees of freedom <= 0 for slice\n",
      "  ret = _var(a, axis=axis, dtype=dtype, out=out, ddof=ddof,\n",
      "D:\\Users\\Roberto\\Anaconda\\Lib\\site-packages\\numpy\\core\\_methods.py:226: RuntimeWarning: invalid value encountered in divide\n",
      "  arrmean = um.true_divide(arrmean, div, out=arrmean,\n",
      "D:\\Users\\Roberto\\Anaconda\\Lib\\site-packages\\numpy\\core\\_methods.py:261: RuntimeWarning: invalid value encountered in scalar divide\n",
      "  ret = ret.dtype.type(ret / rcount)\n"
     ]
    },
    {
     "name": "stdout",
     "output_type": "stream",
     "text": [
      "tamaño de elemento pequeño de  100  el  0.06476641990660682 % de la imagen\n"
     ]
    }
   ],
   "source": [
    "#identificacion de la foto\n",
    "foto=str(foto)\n",
    "\n",
    "#Caracterizamos los segmentos para unirlos como sea necesario, en este caso como RGB1\n",
    "car_FSL,_=caractHSV3(n_segments_FSL,imagen_org)\n",
    "car_FSE,_=caractHSV3(n_segments_FSE,imagen_org)\n",
    "car_FQ,_=caractHSV3(n_segments_FQ,imagen_org)\n",
    "car_union,_=caractHSV3(n_segments,imagen) #(con n_segments, sin procesar)\n",
    "#car_union,_=caract1(segmentacion_mejoradav2,imagen_org) #para hacer primero dentro\n",
    "\n",
    "#tamaño de regiones consideradas pequeñas\n",
    "t_pixeles=100\n",
    "porcentaje=(t_pixeles/(imagen_org.shape[0]*imagen_org.shape[1]))*100\n",
    "print(\"tamaño de elemento pequeño de \",t_pixeles,\" el \",porcentaje,\"% de la imagen\")"
   ]
  },
  {
   "cell_type": "code",
   "execution_count": 11,
   "id": "d47cee50",
   "metadata": {},
   "outputs": [
    {
     "name": "stdout",
     "output_type": "stream",
     "text": [
      "[0.71035762 0.83998896]\n"
     ]
    }
   ],
   "source": [
    "print(car_FQ[0])"
   ]
  },
  {
   "cell_type": "code",
   "execution_count": 12,
   "id": "bf97c0f0",
   "metadata": {},
   "outputs": [],
   "source": []
  },
  {
   "cell_type": "code",
   "execution_count": 13,
   "id": "a1f94159",
   "metadata": {},
   "outputs": [],
   "source": [
    "def clusteriza(car_spixel):\n",
    "\n",
    "    n_max_clusters=100 #maximo de clusters que queremos\n",
    "    n_min_clusters=1 #minimo de clusters que queremos\n",
    "    dist=[0,0.2,1] #proporcion de distancia por la que queremos cortar el arbol (inicial, por pareto y min y max)\n",
    "    clusters=np.array([0])\n",
    "\n",
    "    while clusters.max()>n_max_clusters or clusters.max()<n_min_clusters:\n",
    "\n",
    "        # Calcular las distancias utilizando el método de enlace\n",
    "        enlace = linkage(car_spixel, method='average')\n",
    "        #enlace = linkage(car_spixel, method='single',metric=\"chebyshev\")\n",
    "\n",
    "\n",
    "        # Especificar la proporción de la distancia máxima\n",
    "        proporcion_distancia_max = dist[1]\n",
    "\n",
    "        # Obtener la clusterización en función de la proporción de la distancia máxima\n",
    "        clusters = fcluster(enlace, proporcion_distancia_max * enlace[:, 2].max(), criterion='distance')\n",
    "\n",
    "        if clusters.max()<n_min_clusters:\n",
    "#             print(\"+ antes de recalcular:\",dist, \"(clusters \",clusters.max(),\")\")\n",
    "            dist[2]=dist[1]\n",
    "            dist[1]=((dist[1]-dist[0])/2)+dist[0]\n",
    "#             print(\"+ despues de recalcular:\",dist,\"(clusters \",clusters.max(),\")\")\n",
    "        elif clusters.max()>n_max_clusters:\n",
    "#             print(\"- antes de recalcular:\", dist,\"(clusters \",clusters.max(),\")\")\n",
    "            dist[0]=dist[1]\n",
    "            dist[1]=((dist[2]-dist[1])/2)+dist[1]\n",
    "#             print(\"- despues de recalcular:\",dist,\"(clusters \",clusters.max(),\")\")\n",
    "\n",
    "\n",
    "#     print(clusters.max(),clusters.min(),clusters)\n",
    "    return clusters\n"
   ]
  },
  {
   "cell_type": "code",
   "execution_count": 14,
   "id": "13160600",
   "metadata": {},
   "outputs": [],
   "source": [
    "#clusterizo todas las segmentaciones\n",
    "\n",
    "clusters_FSL=clusteriza(car_FSL)\n",
    "clusters_FSE=clusteriza(car_FSE)\n",
    "clusters_FQ=clusteriza(car_FQ)\n",
    "\n",
    "clusters_union=clusteriza(car_union)\n",
    "\n"
   ]
  },
  {
   "cell_type": "code",
   "execution_count": 15,
   "id": "16c238d2",
   "metadata": {},
   "outputs": [],
   "source": [
    "def uso_bordes(segmentacion,bordes,distancias,clusters):\n",
    "    \"\"\"Dada una segmentación y unos bordes binarios, une los elementos que no contienen bordes con el mas parecido\"\"\"\n",
    "    \n",
    "    import cv2\n",
    "    import numpy as np\n",
    "    \n",
    "    vecinos=[]\n",
    "    distancias_rel=[]\n",
    "    modulo=[]\n",
    "    \n",
    "    #cojo los difernentes segmentos generados\"\n",
    "    elem=np.unique(segmentacion)\n",
    "#     print(\"segmentos: \", elem)\n",
    "    \n",
    "    #cojo los elementos que tienen borde\n",
    "    elem_borde=np.unique(np.where(bordes==1,segmentacion,np.inf))\n",
    "    \n",
    "    #calculo el tamaño de cada segmentacion y el total, identificacion\n",
    "    \n",
    "    total=segmentacion.shape[0]*segmentacion.shape[1]\n",
    "    #print(\"pixeles totales: \", total)\n",
    "    \n",
    "    for i in elem:\n",
    "        aux=(segmentacion==i)\n",
    "        #print(\"valores aux:\",np.unique(aux))\n",
    "        #si contiene borde lo uno con su mejor vecino, si no, no.\n",
    "        #print(\"Pixeles de borde en la imagen: \",np.sum(np.where(bordes==1,1,0)))\n",
    "        #print(\"Tamaño del segmento: \",np.sum(np.where(segmentacion==1,1,0)))\n",
    "        #print(\"Nº pixeles en segemento con borde: \",np.sum(np.where((aux+bordes)==2,1,0)))\n",
    "        borde=np.sum(np.where((aux+bordes)==2,1,0))\n",
    "                \n",
    "        if borde==0:\n",
    "        \n",
    "            # Crear un kernel para la dilatación (en este caso, un cuadro 3x3)\n",
    "            kernel = np.ones((3, 3), np.uint8)\n",
    "\n",
    "            # Aplicar la dilatación al segmento\n",
    "            aux=(segmentacion==i)\n",
    "            aux=aux.astype(np.uint8)\n",
    "            #print(type(aux))\n",
    "            #print(\"segmento trabajo: \",i,\"Tamaño inicial: \",np.sum(aux==1))\n",
    "            aux_dilatado= cv2.dilate(aux, kernel, iterations=1)\n",
    "            #print(\"Tamaño final: \",np.sum(aux_dilatado==1))\n",
    "\n",
    "            #busco los vecinos sobre la segmentacion con la mascara dilatada\n",
    "\n",
    "            vecinos=np.unique(np.where(aux_dilatado==1,segmentacion,i))\n",
    "#             print(\"vector de vecinos: \",vecinos)\n",
    "                \n",
    "            for v in vecinos:\n",
    "                #print(\"segmento: \",i,\"caracteristicas: \", distancias[i])\n",
    "                #print(\"segmento: \",dato[0])\n",
    "                #print(\"caracteristicas: \", distancias[dato[0]])\n",
    "                #print(\"segmento vecino: \",v,\"caracteristicas: \", distancias[v])\n",
    "                dist=distancias[i] - distancias[v]\n",
    "                \n",
    "                if v==i: modulo.append(np.inf)\n",
    "                elif v in elem_borde: modulo.append(np.inf)\n",
    "                else: modulo.append(np.linalg.norm(dist))\n",
    "                #print(\"REL: \", distancias_rel,\"valor: \",modulo)\n",
    "                \n",
    "            parecido=vecinos[np.argmin(modulo)]\n",
    "            #print(\"el mas parecido es: \",parecido)\n",
    "\n",
    "            #sustituyo el segmento por el mas parecido\n",
    "\n",
    "            #print(\"Segmento eliminado: \",i,\" sustituido por: \",parecido, \"puntos anteriores: \", np.sum(segmentacion==i))\n",
    "            if clusters[i]==clusters[parecido]:\n",
    "#                 print(\"cluster pixel: \",clusters[i], \"cluster mejor vecino: \",clusters[parecido])\n",
    "                segmentacion=np.where(segmentacion==i,parecido,segmentacion)\n",
    "            #print(\"El segmento: \",i, \"queda: \",np.sum(segmentacion==i))\n",
    "            \n",
    "            modulo=[] \n",
    "            #print(\"Nuevos segmentos= \",np.unique(segmentacion))\n",
    "            \n",
    "    \n",
    "    return segmentacion"
   ]
  },
  {
   "cell_type": "markdown",
   "id": "107526d9",
   "metadata": {},
   "source": [
    "### Nueva segmentacion FSL corregida con bordes"
   ]
  },
  {
   "cell_type": "code",
   "execution_count": 16,
   "id": "6084d7b8",
   "metadata": {},
   "outputs": [
    {
     "name": "stdout",
     "output_type": "stream",
     "text": [
      "(481, 321) (481, 321)\n"
     ]
    }
   ],
   "source": [
    "print(n_segments_FSL.shape,bordes_mejorados.shape)"
   ]
  },
  {
   "cell_type": "code",
   "execution_count": 17,
   "id": "bfcdf7e8",
   "metadata": {},
   "outputs": [],
   "source": [
    "segments_FSL_bordes=uso_bordes(n_segments_FSL,bordes_mejorados,car_FSL,clusters_FSL)\n",
    "bordes_FSL_bordes=genera_bordes(segments_FSL_bordes)"
   ]
  },
  {
   "cell_type": "code",
   "execution_count": null,
   "id": "7f81d24d",
   "metadata": {},
   "outputs": [],
   "source": []
  },
  {
   "cell_type": "code",
   "execution_count": 18,
   "id": "6a40edc0",
   "metadata": {},
   "outputs": [],
   "source": [
    "#para visualizar que hacemos bien las cosas\n",
    "\n",
    "visual_FSL=np.zeros((image.shape))\n",
    "visual_FSL[:,:,0]=n_bordes_FSL\n",
    "visual_FSL[:,:,1]=bordes_mejorados*255"
   ]
  },
  {
   "cell_type": "code",
   "execution_count": 19,
   "id": "a13e4701",
   "metadata": {},
   "outputs": [
    {
     "name": "stderr",
     "output_type": "stream",
     "text": [
      "Clipping input data to the valid range for imshow with RGB data ([0..1] for floats or [0..255] for integers).\n"
     ]
    },
    {
     "data": {
      "text/plain": [
       "(-0.5, 320.5, 480.5, -0.5)"
      ]
     },
     "execution_count": 19,
     "metadata": {},
     "output_type": "execute_result"
    },
    {
     "data": {
      "image/png": "[encoded data removed]",
      "text/plain": [
       "<Figure size 3000x3000 with 2 Axes>"
      ]
     },
     "metadata": {},
     "output_type": "display_data"
    }
   ],
   "source": [
    "plt.figure(figsize=(30, 30))\n",
    "plt.subplot(1, 2, 1)\n",
    "plt.title('Segmentos FSL antes',fontsize=20)\n",
    "plt.imshow(visual_FSL)\n",
    "plt.axis('off')\n",
    "\n",
    "plt.subplot(1, 2, 2)\n",
    "plt.title('Segmentos FSL despues',fontsize=20)\n",
    "plt.imshow(bordes_FSL_bordes, cmap=\"grey\")\n",
    "plt.axis('off')"
   ]
  },
  {
   "cell_type": "code",
   "execution_count": 20,
   "id": "61352731",
   "metadata": {},
   "outputs": [],
   "source": [
    "#convertir para poder grabar\n",
    "bordes_foto=np.copy(imagen_org)\n",
    "\n",
    "\n",
    "bordes_foto[:,:,0]=n_bordes_FSL*255\n",
    "bordes_foto[:,:,1]=n_bordes_FSL*255\n",
    "bordes_foto[:,:,2]=n_bordes_FSL*255\n",
    "\n",
    "\n",
    "\n",
    "#guardado de imagenes para memoria\n",
    "\n",
    "memoria=\"imagenes_memoria\"\n",
    "io.imsave(os.path.join(memoria,\"Init3_FSL\"+ foto+\".jpg\"), bordes_foto)\n"
   ]
  },
  {
   "cell_type": "code",
   "execution_count": 21,
   "id": "9fbdda98",
   "metadata": {},
   "outputs": [
    {
     "name": "stderr",
     "output_type": "stream",
     "text": [
      "D:\\Users\\Roberto\\Anaconda\\Lib\\site-packages\\numpy\\core\\fromnumeric.py:3464: RuntimeWarning: Mean of empty slice.\n",
      "  return _methods._mean(a, axis=axis, dtype=dtype,\n",
      "D:\\Users\\Roberto\\Anaconda\\Lib\\site-packages\\numpy\\core\\_methods.py:192: RuntimeWarning: invalid value encountered in scalar divide\n",
      "  ret = ret.dtype.type(ret / rcount)\n",
      "D:\\Users\\Roberto\\Anaconda\\Lib\\site-packages\\numpy\\core\\_methods.py:269: RuntimeWarning: Degrees of freedom <= 0 for slice\n",
      "  ret = _var(a, axis=axis, dtype=dtype, out=out, ddof=ddof,\n",
      "D:\\Users\\Roberto\\Anaconda\\Lib\\site-packages\\numpy\\core\\_methods.py:226: RuntimeWarning: invalid value encountered in divide\n",
      "  arrmean = um.true_divide(arrmean, div, out=arrmean,\n",
      "D:\\Users\\Roberto\\Anaconda\\Lib\\site-packages\\numpy\\core\\_methods.py:261: RuntimeWarning: invalid value encountered in scalar divide\n",
      "  ret = ret.dtype.type(ret / rcount)\n"
     ]
    },
    {
     "name": "stdout",
     "output_type": "stream",
     "text": [
      "segmentos:  [   1    2    3 ... 1089 1090 1091]\n",
      "Superpixeles originales:  1091 Superpixeles ahora:  200\n"
     ]
    }
   ],
   "source": [
    "#no estan ordenados los segmentos los ordeno para poder seguir trabajando\n",
    "segments_FSL_bordes=reordenar(segments_FSL_bordes)\n",
    "\n",
    "# print(\"segmentos: \",np.max(segments_FSL_bordes), \"numero: \",len(np.unique(segments_FSL_bordes)))\n",
    "\n",
    "#calculo de nuevo las distancias\n",
    "car_FSL,_=caractHSV3(segments_FSL_bordes,imagen_org)\n",
    "\n",
    "#elimino los pequeños\n",
    "segments_FSL_bordes2=quita_pequenos(imagen_org,segments_FSL_bordes,car_FSL,porcentaje)\n",
    "bordes_FSL_bordes2=genera_bordes(segments_FSL_bordes2)\n",
    "# print(\"Superpixeles originales: \",len(np.unique(segments_FSL_bordes)),\"Superpixeles ahora: \",len(np.unique(segments_FSL_bordes2)))"
   ]
  },
  {
   "cell_type": "code",
   "execution_count": 22,
   "id": "c319aaf5",
   "metadata": {
    "scrolled": false
   },
   "outputs": [
    {
     "name": "stderr",
     "output_type": "stream",
     "text": [
      "Clipping input data to the valid range for imshow with RGB data ([0..1] for floats or [0..255] for integers).\n"
     ]
    },
    {
     "data": {
      "text/plain": [
       "(-0.5, 320.5, 480.5, -0.5)"
      ]
     },
     "execution_count": 22,
     "metadata": {},
     "output_type": "execute_result"
    },
    {
     "data": {
      "image/png": "[encoded data removed]",
      "text/plain": [
       "<Figure size 3000x3000 with 2 Axes>"
      ]
     },
     "metadata": {},
     "output_type": "display_data"
    }
   ],
   "source": [
    "#para visualizar que hacemos bien las cosas\n",
    "\n",
    "visual_FSL2=np.zeros((image.shape))\n",
    "visual_FSL2[:,:,0]=bordes_FSL_bordes\n",
    "visual_FSL2[:,:,1]=bordes_mejorados*255\n",
    "\n",
    "plt.figure(figsize=(30, 30))\n",
    "plt.subplot(1, 2, 1)\n",
    "plt.title('Segmentos FSL antes ',fontsize=20)\n",
    "plt.imshow(visual_FSL)\n",
    "plt.axis('off')\n",
    "\n",
    "plt.subplot(1, 2, 2)\n",
    "plt.title('Segmentos FSL despues 2',fontsize=20)\n",
    "plt.imshow(bordes_FSL_bordes2, cmap=\"grey\")\n",
    "plt.axis('off')"
   ]
  },
  {
   "cell_type": "code",
   "execution_count": 23,
   "id": "9fde39be",
   "metadata": {},
   "outputs": [],
   "source": [
    "#convertir para poder grabar\n",
    "bordes_foto=np.copy(imagen_org)\n",
    "\n",
    "\n",
    "bordes_foto[:,:,0]=bordes_FSL_bordes2*255\n",
    "bordes_foto[:,:,1]=bordes_FSL_bordes2*255\n",
    "bordes_foto[:,:,2]=bordes_FSL_bordes2*255\n",
    "\n",
    "\n",
    "\n",
    "#guardado de imagenes para memoria\n",
    "\n",
    "memoria=\"imagenes_memoria\"\n",
    "io.imsave(os.path.join(memoria,\"FSL_HV3_\"+ foto+\".jpg\"), bordes_foto)"
   ]
  },
  {
   "cell_type": "code",
   "execution_count": null,
   "id": "406bc6cf",
   "metadata": {},
   "outputs": [],
   "source": []
  },
  {
   "cell_type": "code",
   "execution_count": null,
   "id": "003bd814",
   "metadata": {},
   "outputs": [],
   "source": []
  },
  {
   "cell_type": "markdown",
   "id": "2d08b1f5",
   "metadata": {},
   "source": [
    "### Nueva segmentacion FSE corregida con bordes"
   ]
  },
  {
   "cell_type": "code",
   "execution_count": 24,
   "id": "4ab5c818",
   "metadata": {},
   "outputs": [],
   "source": [
    "segments_FSE_bordes=uso_bordes(n_segments_FSE,bordes_mejorados,car_FSE,clusters_FSE)\n",
    "bordes_FSE_bordes=genera_bordes(segments_FSE_bordes)"
   ]
  },
  {
   "cell_type": "code",
   "execution_count": 25,
   "id": "d43befbe",
   "metadata": {},
   "outputs": [],
   "source": [
    "#para visualizar que hacemos bien las cosas\n",
    "\n",
    "# visual_FSE=np.zeros((image.shape))\n",
    "# visual_FSE[:,:,0]=n_bordes_FSE\n",
    "# visual_FSE[:,:,1]=bordes_mejorados*255"
   ]
  },
  {
   "cell_type": "code",
   "execution_count": 26,
   "id": "5529f1e3",
   "metadata": {},
   "outputs": [],
   "source": [
    "# plt.figure(figsize=(30, 30))\n",
    "# plt.subplot(1, 2, 1)\n",
    "# plt.title('Segmentos FSE antes',fontsize=20)\n",
    "# plt.imshow(visual_FSE)\n",
    "# plt.axis('off')\n",
    "\n",
    "# plt.subplot(1, 2, 2)\n",
    "# plt.title('Segmentos FSE despues',fontsize=20)\n",
    "# plt.imshow(bordes_FSE_bordes, cmap=\"grey\")\n",
    "# plt.axis('off')"
   ]
  },
  {
   "cell_type": "code",
   "execution_count": null,
   "id": "336824db",
   "metadata": {},
   "outputs": [],
   "source": []
  },
  {
   "cell_type": "code",
   "execution_count": 27,
   "id": "1645961d",
   "metadata": {},
   "outputs": [
    {
     "name": "stdout",
     "output_type": "stream",
     "text": [
      "segmentos:  1179 numero:  1179\n"
     ]
    },
    {
     "name": "stderr",
     "output_type": "stream",
     "text": [
      "D:\\Users\\Roberto\\Anaconda\\Lib\\site-packages\\numpy\\core\\fromnumeric.py:3464: RuntimeWarning: Mean of empty slice.\n",
      "  return _methods._mean(a, axis=axis, dtype=dtype,\n",
      "D:\\Users\\Roberto\\Anaconda\\Lib\\site-packages\\numpy\\core\\_methods.py:192: RuntimeWarning: invalid value encountered in scalar divide\n",
      "  ret = ret.dtype.type(ret / rcount)\n",
      "D:\\Users\\Roberto\\Anaconda\\Lib\\site-packages\\numpy\\core\\_methods.py:269: RuntimeWarning: Degrees of freedom <= 0 for slice\n",
      "  ret = _var(a, axis=axis, dtype=dtype, out=out, ddof=ddof,\n",
      "D:\\Users\\Roberto\\Anaconda\\Lib\\site-packages\\numpy\\core\\_methods.py:226: RuntimeWarning: invalid value encountered in divide\n",
      "  arrmean = um.true_divide(arrmean, div, out=arrmean,\n",
      "D:\\Users\\Roberto\\Anaconda\\Lib\\site-packages\\numpy\\core\\_methods.py:261: RuntimeWarning: invalid value encountered in scalar divide\n",
      "  ret = ret.dtype.type(ret / rcount)\n"
     ]
    },
    {
     "name": "stdout",
     "output_type": "stream",
     "text": [
      "segmentos:  [   1    2    3 ... 1177 1178 1179]\n",
      "Superpixeles originales:  1179 Superpixeles ahora:  224\n"
     ]
    }
   ],
   "source": [
    "#no estan ordenados los segmentos los ordeno para poder seguir trabajando\n",
    "segments_FSE_bordes=reordenar(segments_FSE_bordes)\n",
    "\n",
    "print(\"segmentos: \",np.max(segments_FSE_bordes), \"numero: \",len(np.unique(segments_FSE_bordes)))\n",
    "\n",
    "#calculo de nuevo las distancias\n",
    "car_FSE,_=caractHSV3(segments_FSE_bordes,imagen_org)\n",
    "\n",
    "#elimino los pequeños\n",
    "segments_FSE_bordes2=quita_pequenos(imagen_org,segments_FSE_bordes,car_FSE,porcentaje)\n",
    "bordes_FSE_bordes2=genera_bordes(segments_FSE_bordes2)\n",
    "# print(\"Superpixeles originales: \",len(np.unique(segments_FSE_bordes)),\"Superpixeles ahora: \",len(np.unique(segments_FSE_bordes2)))"
   ]
  },
  {
   "cell_type": "code",
   "execution_count": 28,
   "id": "87f4e8e7",
   "metadata": {},
   "outputs": [],
   "source": [
    "#para visualizar que hacemos bien las cosas\n",
    "\n",
    "# visual_FSE2=np.zeros((image.shape))\n",
    "# visual_FSE2[:,:,0]=bordes_FSE_bordes\n",
    "# visual_FSE2[:,:,1]=bordes_mejorados*255\n",
    "\n",
    "# plt.figure(figsize=(30, 30))\n",
    "# plt.subplot(1, 2, 1)\n",
    "# plt.title('Segmentos FSE antes ',fontsize=20)\n",
    "# plt.imshow(visual_FSE2)\n",
    "# plt.axis('off')\n",
    "\n",
    "# plt.subplot(1, 2, 2)\n",
    "# plt.title('Segmentos FSE despues 2',fontsize=20)\n",
    "# plt.imshow(bordes_FSE_bordes2, cmap=\"grey\")\n",
    "# plt.axis('off')"
   ]
  },
  {
   "cell_type": "code",
   "execution_count": null,
   "id": "c150bd9d",
   "metadata": {},
   "outputs": [],
   "source": []
  },
  {
   "cell_type": "code",
   "execution_count": null,
   "id": "c999aff6",
   "metadata": {},
   "outputs": [],
   "source": []
  },
  {
   "cell_type": "code",
   "execution_count": null,
   "id": "37801e2c",
   "metadata": {},
   "outputs": [],
   "source": []
  },
  {
   "cell_type": "markdown",
   "id": "6e9206d4",
   "metadata": {},
   "source": [
    "### Nueva segmentacion FQ corregida con bordes"
   ]
  },
  {
   "cell_type": "code",
   "execution_count": 29,
   "id": "7e6a7a7a",
   "metadata": {},
   "outputs": [
    {
     "data": {
      "text/plain": [
       "1752"
      ]
     },
     "execution_count": 29,
     "metadata": {},
     "output_type": "execute_result"
    }
   ],
   "source": [
    "np.max(n_segments_FQ)"
   ]
  },
  {
   "cell_type": "code",
   "execution_count": 30,
   "id": "4d6bdcae",
   "metadata": {
    "scrolled": true
   },
   "outputs": [
    {
     "data": {
      "text/plain": [
       "array([   0,    1,    2, ..., 1750, 1751, 1752])"
      ]
     },
     "execution_count": 30,
     "metadata": {},
     "output_type": "execute_result"
    }
   ],
   "source": [
    "np.unique(n_segments_FQ)"
   ]
  },
  {
   "cell_type": "code",
   "execution_count": 31,
   "id": "b4387909",
   "metadata": {},
   "outputs": [
    {
     "data": {
      "text/plain": [
       "(1753, 2)"
      ]
     },
     "execution_count": 31,
     "metadata": {},
     "output_type": "execute_result"
    }
   ],
   "source": [
    "car_FQ.shape"
   ]
  },
  {
   "cell_type": "code",
   "execution_count": 32,
   "id": "ebec0b56",
   "metadata": {},
   "outputs": [],
   "source": [
    "segments_FQ_bordes=uso_bordes(n_segments_FQ,bordes_mejorados,car_FQ,clusters_FQ)\n",
    "bordes_FQ_bordes=genera_bordes(segments_FQ_bordes)"
   ]
  },
  {
   "cell_type": "code",
   "execution_count": 33,
   "id": "cd8b3111",
   "metadata": {},
   "outputs": [],
   "source": [
    "#para visualizar que hacemos bien las cosas\n",
    "\n",
    "# visual_FQ=np.zeros((image.shape))\n",
    "# visual_FQ[:,:,0]=n_bordes_FQ\n",
    "# visual_FQ[:,:,1]=bordes_mejorados*255"
   ]
  },
  {
   "cell_type": "code",
   "execution_count": 34,
   "id": "7f8d6907",
   "metadata": {},
   "outputs": [],
   "source": [
    "# plt.figure(figsize=(30, 30))\n",
    "# plt.subplot(1, 2, 1)\n",
    "# plt.title('Segmentos FQ antes',fontsize=20)\n",
    "# plt.imshow(visual_FQ)\n",
    "# plt.axis('off')\n",
    "\n",
    "# plt.subplot(1, 2, 2)\n",
    "# plt.title('Segmentos FQ despues',fontsize=20)\n",
    "# plt.imshow(bordes_FQ_bordes, cmap=\"grey\")\n",
    "# plt.axis('off')"
   ]
  },
  {
   "cell_type": "code",
   "execution_count": null,
   "id": "1707dd79",
   "metadata": {},
   "outputs": [],
   "source": []
  },
  {
   "cell_type": "code",
   "execution_count": 35,
   "id": "0be5137f",
   "metadata": {},
   "outputs": [
    {
     "name": "stdout",
     "output_type": "stream",
     "text": [
      "segmentos:  1454 numero:  1454\n"
     ]
    },
    {
     "name": "stderr",
     "output_type": "stream",
     "text": [
      "D:\\Users\\Roberto\\Anaconda\\Lib\\site-packages\\numpy\\core\\fromnumeric.py:3464: RuntimeWarning: Mean of empty slice.\n",
      "  return _methods._mean(a, axis=axis, dtype=dtype,\n",
      "D:\\Users\\Roberto\\Anaconda\\Lib\\site-packages\\numpy\\core\\_methods.py:192: RuntimeWarning: invalid value encountered in scalar divide\n",
      "  ret = ret.dtype.type(ret / rcount)\n",
      "D:\\Users\\Roberto\\Anaconda\\Lib\\site-packages\\numpy\\core\\_methods.py:269: RuntimeWarning: Degrees of freedom <= 0 for slice\n",
      "  ret = _var(a, axis=axis, dtype=dtype, out=out, ddof=ddof,\n",
      "D:\\Users\\Roberto\\Anaconda\\Lib\\site-packages\\numpy\\core\\_methods.py:226: RuntimeWarning: invalid value encountered in divide\n",
      "  arrmean = um.true_divide(arrmean, div, out=arrmean,\n",
      "D:\\Users\\Roberto\\Anaconda\\Lib\\site-packages\\numpy\\core\\_methods.py:261: RuntimeWarning: invalid value encountered in scalar divide\n",
      "  ret = ret.dtype.type(ret / rcount)\n"
     ]
    },
    {
     "name": "stdout",
     "output_type": "stream",
     "text": [
      "segmentos:  [   1    2    3 ... 1452 1453 1454]\n",
      "Superpixeles originales:  1454 Superpixeles ahora:  197\n"
     ]
    }
   ],
   "source": [
    "#no estan ordenados los segmentos los ordeno para poder seguir trabajando\n",
    "segments_FQ_bordes=reordenar(segments_FQ_bordes)\n",
    "\n",
    "# print(\"segmentos: \",np.max(segments_FQ_bordes), \"numero: \",len(np.unique(segments_FQ_bordes)))\n",
    "\n",
    "#calculo de nuevo las distancias\n",
    "car_FQ,_=caractHSV3(segments_FQ_bordes,imagen_org)\n",
    "\n",
    "#elimino los pequeños\n",
    "segments_FQ_bordes2=quita_pequenos(imagen_org,segments_FQ_bordes,car_FQ,porcentaje)\n",
    "bordes_FQ_bordes2=genera_bordes(segments_FQ_bordes2)\n",
    "print(\"Superpixeles originales: \",len(np.unique(segments_FQ_bordes)),\"Superpixeles ahora: \",len(np.unique(segments_FQ_bordes2)))"
   ]
  },
  {
   "cell_type": "code",
   "execution_count": 36,
   "id": "895587d9",
   "metadata": {},
   "outputs": [],
   "source": [
    "#para visualizar que hacemos bien las cosas\n",
    "\n",
    "# visual_FQ2=np.zeros((image.shape))\n",
    "# visual_FQ2[:,:,0]=bordes_FQ_bordes\n",
    "# visual_FQ2[:,:,1]=bordes_mejorados*255\n",
    "\n",
    "# plt.figure(figsize=(30, 30))\n",
    "# plt.subplot(1, 2, 1)\n",
    "# plt.title('Segmentos FQ antes ',fontsize=20)\n",
    "# plt.imshow(visual_FQ2)\n",
    "# plt.axis('off')\n",
    "\n",
    "# plt.subplot(1, 2, 2)\n",
    "# plt.title('Segmentos FQ despues 2',fontsize=20)\n",
    "# plt.imshow(bordes_FQ_bordes2, cmap=\"grey\")\n",
    "# plt.axis('off')"
   ]
  },
  {
   "cell_type": "code",
   "execution_count": null,
   "id": "75186018",
   "metadata": {},
   "outputs": [],
   "source": []
  },
  {
   "cell_type": "code",
   "execution_count": null,
   "id": "8adc3af4",
   "metadata": {},
   "outputs": [],
   "source": []
  },
  {
   "cell_type": "code",
   "execution_count": null,
   "id": "68c76b2f",
   "metadata": {},
   "outputs": [],
   "source": []
  },
  {
   "cell_type": "markdown",
   "id": "e988777b",
   "metadata": {},
   "source": [
    "### Nueva segmentacion union corregida con bordes\n"
   ]
  },
  {
   "cell_type": "code",
   "execution_count": 37,
   "id": "14526625",
   "metadata": {},
   "outputs": [
    {
     "name": "stdout",
     "output_type": "stream",
     "text": [
      "[  1   2   3   4   5   6   7   8   9  10  11  12  13  14  15  16  17  18\n",
      "  19  20  21  22  23  24  25  26  27  28  29  30  31  32  33  34  35  36\n",
      "  37  38  39  40  41  42  43  44  45  46  47  48  49  50  51  52  53  54\n",
      "  55  56  57  58  59  60  61  62  63  64  65  66  67  68  69  70  71  72\n",
      "  73  74  75  76  77  78  79  80  81  82  83  84  85  86  87  88  89  90\n",
      "  91  92  93  94  95  96  97  98  99 100 101 102 103 104 105 106 107 108\n",
      " 109 110 111 112 113 114 115 116 117 118 119 120 121 122 123 124 125 126\n",
      " 127 128 129 130 131 132 133 134 135 136 137 138 139 140 141 142 143 144\n",
      " 145 146 147 148 149 150 151 152 153 154 155 156 157 158 159 160 161 162\n",
      " 163 164 165 166 167 168 169 170 171 172 173 174 175 176 177 178 179 180\n",
      " 181 182 183 184 185 186 187 188 189 190 191 192 193 194 195 196 197 198\n",
      " 199 200 201 202 203 204 205 206 207 208 209] 209\n"
     ]
    }
   ],
   "source": [
    "# print(np.unique(segmentacion_mejorada),len(np.unique(segmentacion_mejorada)))"
   ]
  },
  {
   "cell_type": "code",
   "execution_count": 38,
   "id": "188a72f7",
   "metadata": {
    "scrolled": true
   },
   "outputs": [],
   "source": [
    "n_segments_bordes=uso_bordes(n_segments,bordes_mejorados,car_union,clusters_union) #original\n",
    "#n_segments_bordes=uso_bordes(segmentacion_mejoradav2,bordes_mejorados,car_union)\n",
    "bordes_union_bordes=genera_bordes(n_segments_bordes)"
   ]
  },
  {
   "cell_type": "code",
   "execution_count": 39,
   "id": "1befb367",
   "metadata": {},
   "outputs": [],
   "source": [
    "#para visualizar que hacemos bien las cosas\n",
    "\n",
    "visual_union=np.zeros((image.shape))\n",
    "visual_union[:,:,0]=n_bordes\n",
    "visual_union[:,:,1]=bordes_mejorados*255"
   ]
  },
  {
   "cell_type": "code",
   "execution_count": 40,
   "id": "03f6bb03",
   "metadata": {},
   "outputs": [],
   "source": [
    "# plt.figure(figsize=(30, 30))\n",
    "# plt.subplot(1, 2, 1)\n",
    "# plt.title('Segmentos Todos antes',fontsize=20)\n",
    "# plt.imshow(visual_union)\n",
    "# plt.axis('off')\n",
    "\n",
    "# plt.subplot(1, 2, 2)\n",
    "# plt.title('Segmentos Todos despues',fontsize=20)\n",
    "# plt.imshow(bordes_union_bordes, cmap=\"grey\")\n",
    "# plt.axis('off')"
   ]
  },
  {
   "cell_type": "code",
   "execution_count": 41,
   "id": "bbfb5d21",
   "metadata": {},
   "outputs": [
    {
     "name": "stdout",
     "output_type": "stream",
     "text": [
      "nº mayor segmentos:  4895 numero:  2886\n"
     ]
    }
   ],
   "source": [
    "# print(\"nº mayor segmentos: \",np.max(n_segments_bordes), \"numero: \",len(np.unique(n_segments_bordes)))"
   ]
  },
  {
   "cell_type": "code",
   "execution_count": 42,
   "id": "ceb2dde6",
   "metadata": {},
   "outputs": [
    {
     "name": "stdout",
     "output_type": "stream",
     "text": [
      "segmentos:  2886 numero:  2886\n"
     ]
    }
   ],
   "source": [
    "#no estan ordenados los segmentos los ordeno para poder seguir trabajando\n",
    "n_segments_bordes=reordenar(n_segments_bordes)\n",
    "# print(\"segmentos: \",np.max(n_segments_bordes), \"numero: \",len(np.unique(n_segments_bordes)))"
   ]
  },
  {
   "cell_type": "code",
   "execution_count": 43,
   "id": "a01271b3",
   "metadata": {},
   "outputs": [
    {
     "name": "stderr",
     "output_type": "stream",
     "text": [
      "D:\\Users\\Roberto\\Anaconda\\Lib\\site-packages\\numpy\\core\\fromnumeric.py:3464: RuntimeWarning: Mean of empty slice.\n",
      "  return _methods._mean(a, axis=axis, dtype=dtype,\n",
      "D:\\Users\\Roberto\\Anaconda\\Lib\\site-packages\\numpy\\core\\_methods.py:192: RuntimeWarning: invalid value encountered in scalar divide\n",
      "  ret = ret.dtype.type(ret / rcount)\n",
      "D:\\Users\\Roberto\\Anaconda\\Lib\\site-packages\\numpy\\core\\_methods.py:269: RuntimeWarning: Degrees of freedom <= 0 for slice\n",
      "  ret = _var(a, axis=axis, dtype=dtype, out=out, ddof=ddof,\n",
      "D:\\Users\\Roberto\\Anaconda\\Lib\\site-packages\\numpy\\core\\_methods.py:226: RuntimeWarning: invalid value encountered in divide\n",
      "  arrmean = um.true_divide(arrmean, div, out=arrmean,\n",
      "D:\\Users\\Roberto\\Anaconda\\Lib\\site-packages\\numpy\\core\\_methods.py:261: RuntimeWarning: invalid value encountered in scalar divide\n",
      "  ret = ret.dtype.type(ret / rcount)\n"
     ]
    }
   ],
   "source": [
    "#calculo de nuevo las distancias\n",
    "car_union,_=caractHSV3(n_segments_bordes,imagen_org)"
   ]
  },
  {
   "cell_type": "code",
   "execution_count": 44,
   "id": "bf25f296",
   "metadata": {},
   "outputs": [
    {
     "name": "stdout",
     "output_type": "stream",
     "text": [
      "segmentos:  [   1    2    3 ... 2884 2885 2886]\n",
      "Superpixeles originales:  2886 Superpixeles ahora:  259\n"
     ]
    }
   ],
   "source": [
    "#elimino los pequeños\n",
    "n_segments_bordes2=quita_pequenos(imagen_org,n_segments_bordes,car_union,porcentaje)\n",
    "bordes_union_bordes2=genera_bordes(n_segments_bordes2)\n",
    "# print(\"Superpixeles originales: \",len(np.unique(n_segments_bordes)),\"Superpixeles ahora: \",len(np.unique(n_segments_bordes2)))"
   ]
  },
  {
   "cell_type": "code",
   "execution_count": 45,
   "id": "8a678bc9",
   "metadata": {},
   "outputs": [
    {
     "data": {
      "text/plain": [
       "array([[  58,   58,   58, ...,   58,   58,   58],\n",
       "       [  58,   58,   58, ...,   58,   58,   58],\n",
       "       [  58,   58,   58, ...,   58,   58,   58],\n",
       "       ...,\n",
       "       [2870, 2870, 2870, ..., 2870, 2870, 2870],\n",
       "       [2870, 2870, 2870, ..., 2870, 2870, 2870],\n",
       "       [2870, 2870, 2870, ..., 2870, 2870, 2870]])"
      ]
     },
     "execution_count": 45,
     "metadata": {},
     "output_type": "execute_result"
    }
   ],
   "source": [
    "# n_segments_bordes2"
   ]
  },
  {
   "cell_type": "code",
   "execution_count": 46,
   "id": "5318b451",
   "metadata": {},
   "outputs": [],
   "source": [
    "#para visualizar que hacemos bien las cosas\n",
    "\n",
    "visual_union2=np.zeros((image.shape))\n",
    "visual_union2[:,:,0]=bordes_union_bordes\n",
    "visual_union2[:,:,1]=bordes_mejorados*255"
   ]
  },
  {
   "cell_type": "code",
   "execution_count": 47,
   "id": "7f9efc54",
   "metadata": {
    "scrolled": false
   },
   "outputs": [],
   "source": [
    "# plt.figure(figsize=(30, 30))\n",
    "# plt.subplot(1, 2, 1)\n",
    "# plt.title('Segmentos todos antes ',fontsize=20)\n",
    "# plt.imshow(visual_union2)\n",
    "# plt.axis('off')\n",
    "\n",
    "# plt.subplot(1, 2, 2)\n",
    "# plt.title('Segmentos todos despues 2',fontsize=20)\n",
    "# plt.imshow(bordes_union_bordes2, cmap=\"grey\")\n",
    "# plt.axis('off')"
   ]
  },
  {
   "cell_type": "code",
   "execution_count": 48,
   "id": "ae0a5289",
   "metadata": {},
   "outputs": [],
   "source": [
    "#reordeno todas las segmentaciones para no generar \"huecos\"\n",
    "n_segments_bordes2=reordenar(n_segments_bordes2)\n",
    "segments_FSL_bordes2=reordenar(segments_FSL_bordes2)\n",
    "segments_FSE_bordes2=reordenar(segments_FSE_bordes2)\n",
    "segments_FQ_bordes2=reordenar(segments_FQ_bordes2)\n"
   ]
  },
  {
   "cell_type": "code",
   "execution_count": 49,
   "id": "611ee847",
   "metadata": {},
   "outputs": [],
   "source": [
    "#Leo la imagen\n",
    "directorio=\"compartir\"\n",
    "\n",
    "bordes_image_G_S=np.load(os.path.join(directorio,\"bordes_image_G_S.npy\"))\n",
    "\n"
   ]
  },
  {
   "cell_type": "markdown",
   "id": "448048e4",
   "metadata": {},
   "source": [
    "## RESULTADOS"
   ]
  },
  {
   "cell_type": "code",
   "execution_count": 50,
   "id": "861da932",
   "metadata": {},
   "outputs": [
    {
     "name": "stdout",
     "output_type": "stream",
     "text": [
      "Datos FSL\n",
      "recall: 0.9001\n",
      "precision: 0.3498\n",
      "segmentos: 200\n",
      "aciertos:  145411 total:  154401 ASA: 0.9418\n"
     ]
    },
    {
     "data": {
      "text/plain": [
       "0.9418"
      ]
     },
     "execution_count": 50,
     "metadata": {},
     "output_type": "execute_result"
    }
   ],
   "source": [
    "print(\"Datos FSL\")\n",
    "r_FSL,p_FSL=test_BR(bordes_FSL_bordes2,bordes_image_G_S)\n",
    "print(\"segmentos:\",np.max(segments_FSL_bordes2))\n",
    "asa_FSL=ASA(segments_FSL_bordes2,image_G_S)\n",
    "\n",
    "# print(\"Datos FSE\")\n",
    "# test_BR(bordes_FSE_bordes2,bordes_image_G_S)\n",
    "# print(\"segmentos:\",np.max(segments_FSE_bordes2))\n",
    "# ASA(segments_FSE_bordes2,image_G_S)\n",
    "\n",
    "# print(\"Datos FQ\")\n",
    "# test_BR(bordes_FQ_bordes2,bordes_image_G_S)\n",
    "# print(\"segmentos:\",np.max(segments_FQ_bordes2))\n",
    "# ASA(segments_FQ_bordes2,image_G_S)\n",
    "\n",
    "# print(\"Datos Todos\")\n",
    "# test_BR(bordes_union_bordes2,bordes_image_G_S)\n",
    "# print(\"segmentos:\",np.max(n_segments_bordes2))\n",
    "# ASA(n_segments_bordes2,image_G_S)\n",
    "\n"
   ]
  },
  {
   "cell_type": "code",
   "execution_count": null,
   "id": "4db1f12c",
   "metadata": {},
   "outputs": [],
   "source": [
    "#grabamos los datos por imagen para agregarlos despues.\n",
    "datos_FSL=np.array([r_FSL,p_FSL,np.max(segments_FSL_bordes2),asa_FSL])\n",
    "\n",
    "print(datos_FSL)\n",
    "\n",
    "ruta_datos=\"info_imagenes_test\"\n",
    "np.savetxt(os.path.join(ruta_datos,\"intercambio_fase3_FSL\"+\".csv\"), datos_FSL, delimiter=',')"
   ]
  },
  {
   "cell_type": "code",
   "execution_count": 51,
   "id": "1945eda1",
   "metadata": {
    "scrolled": false
   },
   "outputs": [],
   "source": [
    "#para ver como de bien esta la segmentacion\n",
    "from skimage.color import label2rgb\n",
    "# segments_visual = label2rgb(n_segments_bordes2+1, imagen_org, kind='avg')\n",
    "# segments_visual_FSL = label2rgb(segments_FSL_bordes2+1, imagen_org, kind='avg')\n",
    "# segments_visual_FSE = label2rgb(segments_FSE_bordes2+1, imagen_org, kind='avg')\n",
    "# segments_visual_FQ = label2rgb(segments_FQ_bordes2+1, imagen_org, kind='avg')\n",
    "\n",
    "# plt.figure(figsize=(20, 20))\n",
    "# plt.subplot(2,2,1)\n",
    "# plt.title('Resultado visual todos')\n",
    "# plt.imshow(segments_visual)\n",
    "# plt.axis('off')\n",
    "\n",
    "# plt.subplot(2,2,2)\n",
    "# plt.title('Resultado visual FSL')\n",
    "# plt.imshow(segments_visual_FSL)\n",
    "# plt.axis('off')\n",
    "\n",
    "# plt.subplot(2,2,3)\n",
    "# plt.title('Resultado visual FSE')\n",
    "# plt.imshow(segments_visual_FSE)\n",
    "# plt.axis('off')\n",
    "\n",
    "# plt.subplot(2,2,4)\n",
    "# plt.title('Resultado visual FQ')\n",
    "# plt.imshow(segments_visual_FQ)\n",
    "# plt.axis('off')"
   ]
  },
  {
   "cell_type": "code",
   "execution_count": null,
   "id": "dd9ca9de",
   "metadata": {},
   "outputs": [],
   "source": []
  },
  {
   "cell_type": "code",
   "execution_count": 52,
   "id": "83ad6f26",
   "metadata": {},
   "outputs": [],
   "source": [
    "#reordenamos los megapixeles para evitar problemas de computacion\n",
    "n_segments_bordes2=reordenar(n_segments_bordes2)\n",
    "segments_FSL_bordes2=reordenar(segments_FSL_bordes2)"
   ]
  },
  {
   "cell_type": "code",
   "execution_count": 53,
   "id": "880ad16d",
   "metadata": {},
   "outputs": [],
   "source": [
    "#guardamos la imagen que esamos usando en intercambio\n",
    "inter=\"compartir\"\n",
    "np.save(os.path.join(inter,'n_segments_bordes2'), n_segments_bordes2)\n",
    "np.save(os.path.join(inter,'bordes_union_bordes2'), bordes_union_bordes2)\n",
    "\n",
    "np.save(os.path.join(inter,'segments_FSL_bordes2'), segments_FSL_bordes2)\n",
    "np.save(os.path.join(inter,'bordes_FSL_bordes2'), bordes_FSL_bordes2)\n",
    "\n",
    "np.save(os.path.join(inter,'segments_FSE_bordes2'), segments_FSE_bordes2)\n",
    "np.save(os.path.join(inter,'bordes_FSE_bordes2'), bordes_FSE_bordes2)\n",
    "\n",
    "np.save(os.path.join(inter,'segments_FQ_bordes2'), segments_FQ_bordes2)\n",
    "np.save(os.path.join(inter,'bordes_FQ_bordes2'), bordes_FQ_bordes2)\n",
    "\n",
    "\n",
    "np.save(os.path.join(inter,'int_bordes_mod'), int_bordes_mod)"
   ]
  },
  {
   "cell_type": "code",
   "execution_count": null,
   "id": "9c6dd092",
   "metadata": {},
   "outputs": [],
   "source": []
  },
  {
   "cell_type": "code",
   "execution_count": null,
   "id": "90c6d952",
   "metadata": {},
   "outputs": [],
   "source": []
  },
  {
   "cell_type": "markdown",
   "id": "86683bec",
   "metadata": {},
   "source": [
    "## Test Segmentacion"
   ]
  },
  {
   "cell_type": "code",
   "execution_count": 54,
   "id": "1193cb23",
   "metadata": {},
   "outputs": [],
   "source": [
    "def test_segmentacion(segmentacion):\n",
    "    for seg in np.unique(segmentacion):\n",
    "#         print(\"elementos:\",np.count_nonzero(segmentacion==seg))\n",
    "        mask=(np.where(segmentacion==seg,255,0)).astype(np.uint8)\n",
    "#         print(np.unique(mask))\n",
    "        contornos, _ = cv2.findContours(mask, cv2.RETR_EXTERNAL, cv2.CHAIN_APPROX_SIMPLE)\n",
    "        if len(contornos)>1:\n",
    "            print(\"segmentacion: \",seg,\"cantidad contornos internos: \",len(contornos))\n",
    "        "
   ]
  },
  {
   "cell_type": "code",
   "execution_count": 55,
   "id": "3a373354",
   "metadata": {},
   "outputs": [],
   "source": [
    "# print(np.unique(n_segments_bordes2))\n",
    "# test_segmentacion(n_segments)"
   ]
  },
  {
   "cell_type": "code",
   "execution_count": null,
   "id": "d624d19d",
   "metadata": {},
   "outputs": [],
   "source": []
  },
  {
   "cell_type": "code",
   "execution_count": null,
   "id": "71e54178",
   "metadata": {},
   "outputs": [],
   "source": []
  },
  {
   "cell_type": "code",
   "execution_count": null,
   "id": "df82ca79",
   "metadata": {},
   "outputs": [],
   "source": []
  },
  {
   "cell_type": "raw",
   "id": "9f2fabaa",
   "metadata": {},
   "source": []
  }
 ],
 "metadata": {
  "kernelspec": {
   "display_name": "Python 3 (ipykernel)",
   "language": "python",
   "name": "python3"
  },
  "language_info": {
   "codemirror_mode": {
    "name": "ipython",
    "version": 3
   },
   "file_extension": ".py",
   "mimetype": "text/x-python",
   "name": "python",
   "nbconvert_exporter": "python",
   "pygments_lexer": "ipython3",
   "version": "3.11.5"
  }
 },
 "nbformat": 4,
 "nbformat_minor": 5
}
