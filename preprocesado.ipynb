{
 "cells": [
  {
   "cell_type": "markdown",
   "id": "537bd1ac",
   "metadata": {},
   "source": [
    "preprocesado imagenes Filtro gausiano, normalizado color y mejora contraste"
   ]
  },
  {
   "cell_type": "markdown",
   "id": "605b7637",
   "metadata": {},
   "source": [
    "FILTRO GAUSIANO"
   ]
  },
  {
   "cell_type": "code",
   "execution_count": 1,
   "id": "04a8b494",
   "metadata": {},
   "outputs": [],
   "source": [
    "def fun_filtro_gaussiano(imagen, kernel_size=5):\n",
    "    \"\"\"\n",
    "    Aplica un filtro gaussiano a la imagen RGB\n",
    "    \"\"\"\n",
    "    import cv2\n",
    "    \n",
    "    imagen_f = cv2.cvtColor(imagen, cv2.COLOR_RGB2BGR)\n",
    "    #print (\"Imagen filtrada1: \",imagen_f.shape,type(imagen_f))            \n",
    "    imagen_filtrada=cv2.GaussianBlur(imagen_f, (kernel_size, kernel_size), 0)\n",
    "    #print (\"Imagen filtrada2: \",imagen_filtrada.shape,type(imagen_filtrada))\n",
    "    imagen_filtrada_rgb = cv2.cvtColor(imagen_filtrada, cv2.COLOR_BGR2RGB)\n",
    "    #print (\"Imagen filtrada3: \",imagen_filtrada_rgb.shape,type(imagen_filtrada_rgb))\n",
    "    \n",
    "    return imagen_filtrada_rgb\n",
    "    \n"
   ]
  },
  {
   "cell_type": "markdown",
   "id": "ec88f5f6",
   "metadata": {},
   "source": [
    "NOMALIZADOR COLOR"
   ]
  },
  {
   "cell_type": "code",
   "execution_count": 2,
   "id": "e9dfb7d1",
   "metadata": {},
   "outputs": [],
   "source": [
    "def normalizar_color(imagen):\n",
    "    \"\"\"\n",
    "    Normaliza el color de la imagen RGB.\n",
    "    \"\"\"\n",
    "    #print(\"normalizando....\")\n",
    "    \n",
    "    import cv2\n",
    "    \n",
    "    imagen_n = cv2.cvtColor(imagen, cv2.COLOR_RGB2BGR)\n",
    "    \n",
    "    # Convierte la imagen a un espacio de color adecuado (puedes ajustar esto según tus necesidades)\n",
    "    imagen_en_hsv = cv2.cvtColor(imagen_n, cv2.COLOR_BGR2HSV)\n",
    "    \n",
    "    # Normaliza el canal de saturación\n",
    "    imagen_en_hsv[:, :, 1] = cv2.normalize(imagen_en_hsv[:, :, 1], None, 0, 255, cv2.NORM_MINMAX)\n",
    "    \n",
    "    # Convierte la imagen de nuevo a BGR\n",
    "    imagen_normalizada = cv2.cvtColor(imagen_en_hsv, cv2.COLOR_HSV2BGR)\n",
    "    \n",
    "    imagen_normalizada_rgb = cv2.cvtColor(imagen_normalizada, cv2.COLOR_BGR2RGB)\n",
    "    \n",
    "    return imagen_normalizada_rgb\n",
    "\n",
    "\n"
   ]
  },
  {
   "cell_type": "markdown",
   "id": "6f440b8a",
   "metadata": {},
   "source": [
    "CONTRASTE"
   ]
  },
  {
   "cell_type": "code",
   "execution_count": 3,
   "id": "73a1bb78",
   "metadata": {},
   "outputs": [],
   "source": [
    "def mejorar_contraste(imagen, alpha=1.5, beta=0):\n",
    "    \"\"\"\n",
    "    Mejora el contraste de la imagen utilizando la operación de escalado y desplazamiento lineal.\n",
    "    \"\"\"\n",
    "    #print(\"mejorando contraste....\")\n",
    "    \n",
    "    import cv2\n",
    "    \n",
    "    imagen_c = cv2.cvtColor(imagen, cv2.COLOR_RGB2BGR)\n",
    "    \n",
    "    imagen_mejorada = cv2.convertScaleAbs(imagen_c, alpha=alpha, beta=beta)\n",
    "    \n",
    "    imagen_mejorada_rgb= cv2.cvtColor(imagen_mejorada, cv2.COLOR_BGR2RGB)\n",
    "    \n",
    "    return imagen_mejorada_rgb\n",
    "\n"
   ]
  },
  {
   "cell_type": "markdown",
   "id": "c8f8999f",
   "metadata": {},
   "source": [
    "RESALTE DE BORDES"
   ]
  },
  {
   "cell_type": "code",
   "execution_count": 4,
   "id": "54d05beb",
   "metadata": {},
   "outputs": [],
   "source": [
    "def resalte_bordes (imagen):\n",
    "    \n",
    "    \n",
    "    import cv2\n",
    "    import numpy as np\n",
    "    \n",
    "    # Convertir la imagen a escala de grises\n",
    "    #imagen_gris = cv2.cvtColor(imagen, cv2.COLOR_BGR2GRAY)\n",
    "    \n",
    "    print(\"resaltando bordes....\")\n",
    "\n",
    "    imagen_b=np.copy(imagen)\n",
    "    \n",
    "    # Aplicar el operador de Canny\n",
    "    bordes_0 = cv2.Canny(imagen[:,:,0], 50, 150)  # Ajusta estos valores según tus necesidades\n",
    "    bordes_1 = cv2.Canny(imagen[:,:,1], 50, 150)  # Ajusta estos valores según tus necesidades\n",
    "    bordes_2 = cv2.Canny(imagen[:,:,2], 50, 150)  # Ajusta estos valores según tus necesidades\n",
    "    \n",
    "    #resaltamos bordes en imagen\n",
    "    \n",
    "    imagen_b[:,:,0]=np.where(bordes_0==255,255,imagen_b[:,:,0])\n",
    "    imagen_b[:,:,1]=np.where(bordes_1==255,255,imagen_b[:,:,1])\n",
    "    imagen_b[:,:,2]=np.where(bordes_2==255,255,imagen_b[:,:,2])\n",
    "    \n",
    "    return imagen_b\n",
    "\n"
   ]
  },
  {
   "cell_type": "markdown",
   "id": "314523f5",
   "metadata": {},
   "source": [
    "REPRESENTA BORDES EN ROJO"
   ]
  },
  {
   "cell_type": "code",
   "execution_count": 1,
   "id": "91e43cc9",
   "metadata": {},
   "outputs": [],
   "source": [
    "def muestra_bordesR(bordes,imagen):\n",
    "    \"\"\" Bordes en formato binario e imagen en formato RGB uint8, con estos dos datos\n",
    "    genera una imagen donde se ve la imagen original y superpuestos los bordes dados en color rojo\"\"\"\n",
    "    \n",
    "    import numpy as np\n",
    "    \n",
    "    final=np.copy(imagen)\n",
    "    final[:,:,0]=np.where(bordes==1,255,final[:,:,0])\n",
    "    \n",
    "    return final\n",
    "    "
   ]
  },
  {
   "cell_type": "code",
   "execution_count": null,
   "id": "42aacd47",
   "metadata": {},
   "outputs": [],
   "source": []
  },
  {
   "cell_type": "code",
   "execution_count": null,
   "id": "f473b8ad",
   "metadata": {},
   "outputs": [],
   "source": []
  }
 ],
 "metadata": {
  "kernelspec": {
   "display_name": "Python 3 (ipykernel)",
   "language": "python",
   "name": "python3"
  },
  "language_info": {
   "codemirror_mode": {
    "name": "ipython",
    "version": 3
   },
   "file_extension": ".py",
   "mimetype": "text/x-python",
   "name": "python",
   "nbconvert_exporter": "python",
   "pygments_lexer": "ipython3",
   "version": "3.11.5"
  }
 },
 "nbformat": 4,
 "nbformat_minor": 5
}
