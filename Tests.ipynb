{
 "cells": [
  {
   "cell_type": "markdown",
   "id": "0d474f5d",
   "metadata": {},
   "source": [
    "Test de bondad de ajuste al borde real"
   ]
  },
  {
   "cell_type": "code",
   "execution_count": 1,
   "id": "4bd16712",
   "metadata": {
    "scrolled": true
   },
   "outputs": [],
   "source": [
    "def test_BR(bordes, bordes_ref, rango=0.0075):\n",
    "    \"\"\"Calcula precision y recall conforme a lo que se hace habitualmente en superpixeles, datos en binario\"\"\"\n",
    "    import numpy as np\n",
    "    acierto=error=acierto2=error2=0\n",
    "    A=0\n",
    "    total=np.sum(bordes_ref)\n",
    "    total2=np.sum(bordes)\n",
    "    dim1=bordes_ref.shape[0]\n",
    "    dim2=bordes_ref.shape[1]\n",
    "    diag=int(np.sqrt(dim1**2 + dim2**2))\n",
    "#     print(dim1**2,dim2**2)\n",
    "    distancia=int(diag*rango)\n",
    "#     print(\"diagonal de la imagen: \",diag,\"(\",bordes_ref.shape[0],\"x\",bordes_ref.shape[1],\")\")\n",
    "#     print(\"distancia: \",distancia)\n",
    "    \n",
    "    for i in range(dim1):\n",
    "        for j in range(dim2):\n",
    "            if bordes_ref[i][j]==1:                \n",
    "                mascara=np.zeros((dim1,dim2),np.uint8)\n",
    "                mascara[i-distancia:i+distancia,j-distancia:j+distancia]=1\n",
    "                resultado=bordes*mascara\n",
    "                resultado=np.sum(resultado)\n",
    "                if resultado>=1:acierto+=1\n",
    "                else: error+=1\n",
    "            if bordes[i][j]==1:\n",
    "                mascara2=np.zeros((dim1,dim2),np.uint8)\n",
    "                mascara2[i-distancia:i+distancia,j-distancia:j+distancia]=1\n",
    "                resultado2=bordes_ref*mascara2\n",
    "                resultado2=np.sum(resultado2)\n",
    "                if resultado2>=1:acierto2+=1\n",
    "                else: error2+=1\n",
    "    \n",
    "#     print(\"he recorrido: \",i,\"-\",j)\n",
    "#     print(\"aciertos:\",acierto,\" - errores:\", error, \"total: \",total)\n",
    "#     print(\"aciertos2:\",acierto2,\" - errores2:\", error2, \"total2: \",total2)\n",
    "    \n",
    "    if (acierto+error)!=0: recall=acierto/(acierto+error)\n",
    "    else : recall=0\n",
    "    print(\"recall:\",round(recall,4))\n",
    "    if (acierto+error2)!=0: precision=acierto/(acierto+error2)\n",
    "    else : precision=0\n",
    "    print(\"precision:\",round(precision,4))\n",
    "    \n",
    "    return (round(recall,4),round(precision,4))\n",
    "    \n",
    "                \n",
    "    \n",
    "    \n",
    "    \n",
    "    "
   ]
  },
  {
   "cell_type": "code",
   "execution_count": 2,
   "id": "24cd376a",
   "metadata": {},
   "outputs": [],
   "source": [
    "def ASA(segmentacion, segmentacion_ref):\n",
    "    \"\"\"Dadas 2 segmentaciones calcula el parecido, asignando a la evaluada en cada segmento el valor mas repetido\n",
    "    en el mismo area de la de referencia\"\"\"\n",
    "    \n",
    "    import numpy as np\n",
    "    import cv2\n",
    "    \n",
    "    if 0 in np.unique(segmentacion): segmentacion=segmentacion+1\n",
    "    if 0 in np.unique(segmentacion_ref): segmentacion_ref=segmentacion_ref+1\n",
    "    \n",
    "    aux=np.copy(segmentacion)\n",
    "    res=np.copy(segmentacion)\n",
    "    matrizASA=np.copy(segmentacion)\n",
    "    for seg in np.unique(segmentacion):\n",
    "        mask=np.where(segmentacion==seg,1,0)\n",
    "        tamano=np.sum(mask)\n",
    "        aux=mask*segmentacion_ref\n",
    "        valor,frec=np.unique(aux, return_counts=True)\n",
    "#         print(\"valores en segmento:\", valor, \"frecuencias:\",frec)\n",
    "        valor_rep=valor[np.argmax(frec[1:])+1]\n",
    "#         print(np.argmax(frec[1:]))\n",
    "#         print(\"Segmento:\",seg, \"valor en referencia:\", valor_rep, \"aparece: \",frec,\"veces de:\",tamano)\n",
    "        res=np.where(segmentacion==seg,valor_rep,res)\n",
    "    matrizASA=np.where(res==segmentacion_ref,1,0)\n",
    "    ASA=np.sum(matrizASA)/(matrizASA.shape[0]*matrizASA.shape[1])\n",
    "    print(\"aciertos: \",np.sum(matrizASA), \"total: \",matrizASA.shape[0]*matrizASA.shape[1], \"ASA:\",round(ASA,4))\n",
    "    \n",
    "    return round(ASA,4)"
   ]
  },
  {
   "cell_type": "code",
   "execution_count": null,
   "id": "25a4efd0",
   "metadata": {},
   "outputs": [],
   "source": []
  }
 ],
 "metadata": {
  "kernelspec": {
   "display_name": "Python 3 (ipykernel)",
   "language": "python",
   "name": "python3"
  },
  "language_info": {
   "codemirror_mode": {
    "name": "ipython",
    "version": 3
   },
   "file_extension": ".py",
   "mimetype": "text/x-python",
   "name": "python",
   "nbconvert_exporter": "python",
   "pygments_lexer": "ipython3",
   "version": "3.11.5"
  }
 },
 "nbformat": 4,
 "nbformat_minor": 5
}
